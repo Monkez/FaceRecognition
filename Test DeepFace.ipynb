{
 "cells": [
  {
   "cell_type": "code",
   "execution_count": null,
   "metadata": {},
   "outputs": [],
   "source": [
    "from deepface import DeepFace\n",
    "from deepface.commons import distance as dst\n",
    "from deepface.detectors import FaceDetector\n",
    "import time\n",
    "import cv2\n",
    "from glob import glob as gl\n",
    "import numpy as np\n",
    "from tqdm import trange\n",
    "from matplotlib import pyplot as plt"
   ]
  },
  {
   "cell_type": "code",
   "execution_count": null,
   "metadata": {},
   "outputs": [],
   "source": [
    "detector_names = ['opencv','ssd','mtcnn', 'retinaface']\n",
    "detector_name = 'ssd'\n",
    "detector = FaceDetector.build_model(detector_name)\n",
    "\n",
    "def face_detect(img):\n",
    "    faces = FaceDetector.detect_face(detector, detector_name, img, align = False)\n",
    "    return faces"
   ]
  },
  {
   "cell_type": "code",
   "execution_count": null,
   "metadata": {},
   "outputs": [],
   "source": [
    "import tensorflow as tf\n",
    "from yolov3_tf2.models import (\n",
    "    YoloV3, YoloV3Tiny\n",
    ")\n",
    "from yolov3_tf2.dataset import transform_images, load_tfrecord_dataset\n",
    "from yolov3_tf2.utils import draw_outputs, convert_output\n",
    "\n",
    "num_classes = 1\n",
    "tfrecord = None\n",
    "weights = 'face-yolov3-tiny.tf'\n",
    "classes = './yolov3_tf2/face.names'\n",
    "size = 416\n",
    "yolo = YoloV3Tiny(classes=num_classes)\n",
    "yolo.load_weights(weights).expect_partial()\n",
    "\n",
    "\n",
    "def face_detect(img_raw):\n",
    "    img_orin = img_raw.copy()\n",
    "    img_raw = tf.convert_to_tensor(img_raw, dtype=tf.uint8)\n",
    "    img = tf.expand_dims(img_raw, 0)\n",
    "    img = transform_images(img, size)\n",
    "    boxes, scores, classes, nums = yolo(img)\n",
    "    img = cv2.cvtColor(img_raw.numpy(), cv2.COLOR_RGB2BGR)\n",
    "    output = convert_output(img, (boxes, scores, classes, nums))\n",
    "    outputs = []\n",
    "    for out in output:\n",
    "        top, right, bottom, left = out\n",
    "        top = 0 if top <0 else top\n",
    "        right = 0 if right <0 else right\n",
    "        bottom = 0 if bottom <0 else bottom\n",
    "        left = 0 if left <0 else left\n",
    "        face = img_orin[top:bottom, left:right]\n",
    "        outputs.append([face, [left, top, right, bottom]])\n",
    "    return outputs"
   ]
  },
  {
   "cell_type": "code",
   "execution_count": null,
   "metadata": {},
   "outputs": [],
   "source": [
    "def show(img):\n",
    "    plt.imshow(img[:, :, ::-1])\n",
    "    plt.show()"
   ]
  },
  {
   "cell_type": "code",
   "execution_count": null,
   "metadata": {},
   "outputs": [],
   "source": [
    "img = cv2.imread(\"4197.jpg\")\n",
    "t1 = time.time()\n",
    "faces = face_detect(img)\n",
    "print(len(faces))\n",
    "t2 = time.time()\n",
    "print(t2-t1)\n",
    "for face in faces:\n",
    "    show(face[0])"
   ]
  },
  {
   "cell_type": "code",
   "execution_count": null,
   "metadata": {},
   "outputs": [],
   "source": [
    "def test_model(model_name, detector_name, threshold, test_samples = 1000):\n",
    "    user_folders = gl(\"users/*\")\n",
    "    model = DeepFace.build_model(model_name)\n",
    "    detector = FaceDetector.build_model(detector_name)\n",
    "    w1 = 0\n",
    "    w2 = 0\n",
    "    T = 0\n",
    "    for i in trange(test_samples):\n",
    "        users = np.random.randint(0, len(user_folders), 2)\n",
    "        user1 = np.random.choice(gl(user_folders[users[0]]+\"/*.jpg\"))\n",
    "        user2 = np.random.choice(gl(user_folders[users[1]]+\"/*.jpg\"))\n",
    "        user1  = face_detect(cv2.imread(user1))[0][0]\n",
    "        user2  = face_detect(cv2.imread(user2))[0][0]\n",
    "        embedding1 = DeepFace.represent(user1, model = model, fast=True)\n",
    "        embedding2 = DeepFace.represent(user2, model = model, fast=True)\n",
    "        distance = dst.findEuclideanDistance(dst.l2_normalize(embedding1), dst.l2_normalize(embedding2))\n",
    "        if users[0] == users[1] and distance > threshold :\n",
    "            w1+=1\n",
    "        if users[0] != users[1] and distance <= threshold :\n",
    "            w2+=1\n",
    "        T+=1\n",
    "    print(\"Total:\", T, w1, w2)\n",
    "    print(w1*100/T)\n",
    "    print(w2*100/T)\n",
    "    print((w1+w2)*100/T)"
   ]
  },
  {
   "cell_type": "code",
   "execution_count": null,
   "metadata": {
    "scrolled": true
   },
   "outputs": [],
   "source": [
    "test_model(\"Dlib\", 'ssd', 0.25, 100)"
   ]
  },
  {
   "cell_type": "code",
   "execution_count": null,
   "metadata": {},
   "outputs": [],
   "source": [
    "test_model(\"VGG-Face\", 'ssd', 0.6, test_samples  = 100)"
   ]
  },
  {
   "cell_type": "code",
   "execution_count": null,
   "metadata": {},
   "outputs": [],
   "source": [
    "test_model(\"OpenFace\", 'ssd', 0.5, test_samples  = 100)"
   ]
  },
  {
   "cell_type": "code",
   "execution_count": null,
   "metadata": {},
   "outputs": [],
   "source": [
    "test_model(\"Facenet\", 'ssd', 0.8, test_samples  = 100)"
   ]
  },
  {
   "cell_type": "code",
   "execution_count": null,
   "metadata": {},
   "outputs": [],
   "source": [
    "test_model(\"ArcFace\", 'ssd', 0.75, test_samples  = 100)"
   ]
  },
  {
   "cell_type": "code",
   "execution_count": null,
   "metadata": {},
   "outputs": [],
   "source": []
  }
 ],
 "metadata": {
  "kernelspec": {
   "display_name": "Camera",
   "language": "python",
   "name": "camera"
  },
  "language_info": {
   "codemirror_mode": {
    "name": "ipython",
    "version": 3
   },
   "file_extension": ".py",
   "mimetype": "text/x-python",
   "name": "python",
   "nbconvert_exporter": "python",
   "pygments_lexer": "ipython3",
   "version": "3.6.12"
  }
 },
 "nbformat": 4,
 "nbformat_minor": 4
}
