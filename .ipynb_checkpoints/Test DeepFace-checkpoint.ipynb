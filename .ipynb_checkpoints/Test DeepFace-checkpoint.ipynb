{
 "cells": [
  {
   "cell_type": "code",
   "execution_count": null,
   "metadata": {},
   "outputs": [],
   "source": [
    "from deepface import DeepFace\n",
    "from deepface.commons import distance as dst\n",
    "import time\n",
    "import cv2\n",
    "from glob import glob as gl\n",
    "import numpy as np\n",
    "from tqdm import trange"
   ]
  },
  {
   "cell_type": "code",
   "execution_count": 5,
   "metadata": {},
   "outputs": [
    {
     "name": "stdout",
     "output_type": "stream",
     "text": [
      "<class 'str'>\n"
     ]
    }
   ],
   "source": [
    "print(str(type(\"fsdf\")))"
   ]
  },
  {
   "cell_type": "code",
   "execution_count": null,
   "metadata": {},
   "outputs": [],
   "source": [
    "models = [\"VGG-Face\", \"Facenet\", \"OpenFace\", \"DeepFace\", \"DeepID\", \"ArcFace\", \"Dlib\"]\n",
    "model_name = \"Dlib\"\n",
    "model = DeepFace.build_model(model_name)"
   ]
  },
  {
   "cell_type": "code",
   "execution_count": null,
   "metadata": {},
   "outputs": [],
   "source": [
    "img = cv2.imread(\"users/0002/3.jpg\")\n",
    "tik = time.time()\n",
    "embedding1 = DeepFace.represent(img, model = model, fast=True)\n",
    "print\n",
    "tok = time.time()\n",
    "print(tok - tik)"
   ]
  },
  {
   "cell_type": "code",
   "execution_count": null,
   "metadata": {},
   "outputs": [],
   "source": [
    "embedding2 = DeepFace.represent(\"users/0004/0.jpg\", model = model)"
   ]
  },
  {
   "cell_type": "code",
   "execution_count": null,
   "metadata": {},
   "outputs": [],
   "source": [
    "tik = time.time()\n",
    "distance = dst.findEuclideanDistance(dst.l2_normalize(embedding1), dst.l2_normalize(embedding2))\n",
    "tok = time.time()\n",
    "print(tok - tik)\n",
    "print(distance)"
   ]
  },
  {
   "cell_type": "code",
   "execution_count": null,
   "metadata": {},
   "outputs": [],
   "source": [
    "def test_model(model_name, threshold, test_samples = 1000):\n",
    "    user_folders = gl(\"users/*\")\n",
    "    model = DeepFace.build_model(model_name)\n",
    "    w1 = 0\n",
    "    w2 = 0\n",
    "    for i in trange(test_samples):\n",
    "        users = np.random.randint(0, len(user_folders), 2)\n",
    "        user1 = np.random.choice(gl(user_folders[users[0]]+\"/*.jpg\"))\n",
    "        user2 = np.random.choice(gl(user_folders[users[1]]+\"/*.jpg\"))\n",
    "        embedding1 = DeepFace.represent(cv2.imread(user1), model = model, fast=True)\n",
    "        embedding2 = DeepFace.represent(cv2.imread(user2), model = model, fast=True)\n",
    "        distance = dst.findEuclideanDistance(dst.l2_normalize(embedding1), dst.l2_normalize(embedding2))\n",
    "        if users[0] == users[1] and distance > threshold :\n",
    "            w1+=1\n",
    "        if users[0] != users[1] and distance <= threshold :\n",
    "            w2+=1\n",
    "        \n",
    "    print(w1*100/test_samples)\n",
    "    print(w2*100/test_samples)\n",
    "    print((w1+w2)*100/test_samples)"
   ]
  },
  {
   "cell_type": "code",
   "execution_count": null,
   "metadata": {
    "scrolled": true
   },
   "outputs": [],
   "source": [
    "test_model(\"Dlib\", 0.28)"
   ]
  },
  {
   "cell_type": "code",
   "execution_count": null,
   "metadata": {},
   "outputs": [],
   "source": [
    "test_model(\"VGG-Face\", 0.6, test_samples  = 100)"
   ]
  },
  {
   "cell_type": "code",
   "execution_count": null,
   "metadata": {},
   "outputs": [],
   "source": [
    "test_model(\"OpenFace\", 0.5, test_samples  = 1000)"
   ]
  },
  {
   "cell_type": "code",
   "execution_count": null,
   "metadata": {},
   "outputs": [],
   "source": [
    "test_model(\"Facenet\", 0.9, test_samples  = 1000)"
   ]
  },
  {
   "cell_type": "code",
   "execution_count": null,
   "metadata": {},
   "outputs": [],
   "source": [
    "test_model(\"ArcFace\", 1.0, test_samples  = 1000)"
   ]
  }
 ],
 "metadata": {
  "kernelspec": {
   "display_name": "ros",
   "language": "python",
   "name": "ros"
  },
  "language_info": {
   "codemirror_mode": {
    "name": "ipython",
    "version": 3
   },
   "file_extension": ".py",
   "mimetype": "text/x-python",
   "name": "python",
   "nbconvert_exporter": "python",
   "pygments_lexer": "ipython3",
   "version": "3.6.12"
  }
 },
 "nbformat": 4,
 "nbformat_minor": 4
}
